{
 "cells": [
  {
   "cell_type": "markdown",
   "metadata": {},
   "source": [
    "# Objective"
   ]
  },
  {
   "cell_type": "markdown",
   "metadata": {},
   "source": [
    "The objective of this report is to describe the changes to the vapor compression cycle model, recent improvements to experimental apparatus and results, and next steps for construction and evaluation of the final thermal management system iteration."
   ]
  },
  {
   "cell_type": "markdown",
   "metadata": {},
   "source": [
    "# Hypothesis"
   ]
  },
  {
   "cell_type": "markdown",
   "metadata": {},
   "source": [
    "It was hypothesized that by replacing the current surface mount thermocouples with immersion thermocouples better agreement between the model and experimental results could be achieved. As an alternative to replacement, it was also hypothesized that better agreement could be achieved by applying a thermal compound to the surface mount thermocouples. Regarding the model, it was hypothesized that adding pressure drops across the heat exchangers as well as entropy loss and enthalpy gain during the compression and expansion processes respectively could result in better modeling of the system. Finally, it was hypothesized that replacing the model’s expansion valve function with a mass flowrate correlation for capillary tubes would result in better modeling due to the use of capillary tubes in the prototype."
   ]
  },
  {
   "cell_type": "markdown",
   "metadata": {},
   "source": [
    "# Methods"
   ]
  },
  {
   "cell_type": "markdown",
   "metadata": {},
   "source": [
    "## Experimental Adjustments"
   ]
  },
  {
   "cell_type": "markdown",
   "metadata": {},
   "source": [
    "In the current experimental setup measurements of pressure and temperature are taken after each thermodynamic process in the vapor compression refrigeration cycle (VCRC). The figure below shows an example of an VCRC with and without losses. The cycles are numbered 1-8 showing the refrigerant undergoing thermodynamic changes. Points 6 and 7 are coincident because there is no phase change from a subcooled fluid to a saturated mixture after expansion. "
   ]
  },
  {
   "cell_type": "code",
   "execution_count": 1,
   "metadata": {},
   "outputs": [],
   "source": [
    "# Import Packages\n",
    "import numpy as np\n",
    "import pandas as pd\n",
    "import matplotlib.pyplot as plt\n",
    "# from IPython.display import Image, display\n",
    "# from PIL import Image\n",
    "import CoolProp.CoolProp as CP\n",
    "from CoolProp.Plots import PropertyPlot\n",
    "from analysis_functions import *\n",
    "import optimization_functions as of\n",
    "import optimization_functions2 as of2\n",
    "import warnings\n",
    "from importlib import reload \n",
    "from scipy.optimize import root_scalar\n",
    "plt.close('all')\n",
    "# %matplotlib widget"
   ]
  },
  {
   "cell_type": "code",
   "execution_count": 2,
   "metadata": {},
   "outputs": [],
   "source": [
    "# example_plots()"
   ]
  },
  {
   "cell_type": "markdown",
   "metadata": {},
   "source": [
    "In the context of these cycles the experimental measurements are taken at points 1’, 2’, 5’ and 6’. The measurements at 2’, 5’, and 6’ are located on the outside of the prototype while the measurement at 1’ is located inside of the prototype. Previous experiments have shown that the measurements taken by the surface mounted thermocouples are inaccurate due the gradient effects between the inside/outside temperatures and the refrigerant temperature. As a result, temperature measurements at 2’ and 5’ have been substantially lower than we know the refrigerant to be and measurements at 6’ and 1’ have been substantially higher. In an effort two remedy these inaccuracies two adjustments to the experimental apparatus are tried: replacing the surface mounted thermocouples with immersion thermocouples and adhering the surface mount thermocouples with thermal paste to the refrigerant tubing.  The thermal paste is used to insulate from the ambient temperature and increase heat transfer from the refrigerant. "
   ]
  },
  {
   "cell_type": "markdown",
   "metadata": {},
   "source": [
    "In the first experiment Four Omega Engineering TC-K-1/8NPT-U-72 immersion thermocouples were attached to the prototype’s refrigeration cycle schrader valve ports and a test was run with the heating element power at maximum (1390) and the wind tunnel at 500 RPM (~ 5.2 m/s). \n",
    "\n",
    "In the following experiment a hybrid approach was taken with three immersion thermocouples at points 1’, 5’, and 6’ and a surface mount thermocouple at 2’. The test was run with the heating element power at maximum (1389) and the wind tunnel at 500 RPM (~ 5.2 m/s).\n",
    "\n",
    "\n",
    "Finally, the 4 surface mount thermocouples which were previously installed were adhered to the refrigeration tubing at their respective locations using McMaster-Carr 3883K24 Heat Sink Compound. A test was run with the heating element power at maximum (1366 W) and the wind tunnel at 500 RPM (~ 5.2 m/s). Nine additional tests were conducted under the same conditions with heating element power ranging from 1365 - 1450 W ."
   ]
  },
  {
   "cell_type": "markdown",
   "metadata": {},
   "source": [
    "## Model Adjustments"
   ]
  },
  {
   "cell_type": "markdown",
   "metadata": {},
   "source": [
    "The VCRC model developed by Dubicki et al. uses 4 functions which represent the 4 major components of a VCRC: the compressor, the condenser, the expansion valve, and the evaporator. The four functions are used in conjunction with the thermodynamic values of the refrigerant (R-410a) and air in an optimization to minimize the norm of the mass and energy deficits. To improve this model, for the purpose of evaluating the POD’s thermal management system prototype, the component function representing expansion has been changed from a thermostatic expansion valve mass flow rate model to a capillary tube mass flow rate correlation. An enthalpy gain of 47.5 % was also added to the expansion function and a superheat entropy loss of 20% was added to the compressor function. "
   ]
  },
  {
   "cell_type": "markdown",
   "metadata": {},
   "source": [
    "# Results"
   ]
  },
  {
   "cell_type": "markdown",
   "metadata": {},
   "source": [
    "Figure 2 shows the steady state results of the thermodynamic values based on measurements from four immersion thermocouples and four pressure transducers."
   ]
  },
  {
   "cell_type": "markdown",
   "metadata": {},
   "source": [
    "Figure 3 shows the steady state results of the thermodynamic values based on measurements from three immersion thermocouples, one surface mount thermocouple at 2' and four pressure transducers."
   ]
  },
  {
   "cell_type": "code",
   "execution_count": 3,
   "metadata": {},
   "outputs": [],
   "source": [
    "path = 'C:/Users/charl/Google Drive/school/Graduate/Pod Project/Prototype/'\n",
    "modelData = pd.read_pickle(path + 'modelDataframe.pkl')"
   ]
  },
  {
   "cell_type": "code",
   "execution_count": 32,
   "metadata": {},
   "outputs": [],
   "source": [
    "controlData = pd.read_pickle(path + 'controlDataframe.pkl')\n",
    "controlData = controlData.reset_index()"
   ]
  },
  {
   "cell_type": "code",
   "execution_count": 36,
   "metadata": {},
   "outputs": [
    {
     "ename": "AssertionError",
     "evalue": "",
     "output_type": "error",
     "traceback": [
      "\u001b[1;31m---------------------------------------------------------------------------\u001b[0m",
      "\u001b[1;31mAssertionError\u001b[0m                            Traceback (most recent call last)",
      "\u001b[1;32m<ipython-input-36-7433b960bc96>\u001b[0m in \u001b[0;36m<module>\u001b[1;34m\u001b[0m\n\u001b[0;32m     24\u001b[0m                      ])\n\u001b[0;32m     25\u001b[0m \u001b[1;33m\u001b[0m\u001b[0m\n\u001b[1;32m---> 26\u001b[1;33m     \u001b[1;33m[\u001b[0m\u001b[0mVars\u001b[0m\u001b[1;33m,\u001b[0m \u001b[0mCOSP\u001b[0m\u001b[1;33m]\u001b[0m \u001b[1;33m=\u001b[0m  \u001b[0mof\u001b[0m\u001b[1;33m.\u001b[0m\u001b[0madjust_cycle_fmin\u001b[0m\u001b[1;33m(\u001b[0m \u001b[0mVar\u001b[0m\u001b[1;33m,\u001b[0m \u001b[0mInputs\u001b[0m\u001b[1;33m,\u001b[0m \u001b[0mParam\u001b[0m\u001b[1;33m)\u001b[0m\u001b[1;33m\u001b[0m\u001b[1;33m\u001b[0m\u001b[0m\n\u001b[0m\u001b[0;32m     27\u001b[0m \u001b[1;33m\u001b[0m\u001b[0m\n\u001b[0;32m     28\u001b[0m     \u001b[1;33m[\u001b[0m\u001b[0mP\u001b[0m\u001b[1;33m,\u001b[0m \u001b[0mT\u001b[0m\u001b[1;33m,\u001b[0m \u001b[0mh\u001b[0m\u001b[1;33m,\u001b[0m \u001b[0ms\u001b[0m\u001b[1;33m,\u001b[0m \u001b[0mabscissa\u001b[0m\u001b[1;33m,\u001b[0m \u001b[0mm_dot\u001b[0m\u001b[1;33m,\u001b[0m \u001b[0mQ_L\u001b[0m\u001b[1;33m,\u001b[0m \u001b[0mQ_H\u001b[0m\u001b[1;33m,\u001b[0m \u001b[0mW_comp\u001b[0m\u001b[1;33m,\u001b[0m \u001b[0mW_fan_c\u001b[0m\u001b[1;33m,\u001b[0m \u001b[0mW_fan_e\u001b[0m\u001b[1;33m,\u001b[0m \u001b[0mCOSP\u001b[0m\u001b[1;33m,\u001b[0m \u001b[0mDeficit\u001b[0m\u001b[1;33m]\u001b[0m \u001b[1;33m=\u001b[0m \u001b[0mof\u001b[0m\u001b[1;33m.\u001b[0m\u001b[0mmake_cycle\u001b[0m\u001b[1;33m(\u001b[0m\u001b[0mVars\u001b[0m\u001b[1;33m,\u001b[0m \u001b[0mInputs\u001b[0m\u001b[1;33m,\u001b[0m \u001b[0mParam\u001b[0m\u001b[1;33m)\u001b[0m\u001b[1;33m\u001b[0m\u001b[1;33m\u001b[0m\u001b[0m\n",
      "\u001b[1;32m~\\Google Drive\\school\\Graduate\\Pod Project\\Prototype\\VCRC-Optimize\\optimization_functions.py\u001b[0m in \u001b[0;36madjust_cycle_fmin\u001b[1;34m(Vars, Inputs, Param, refrigerant)\u001b[0m\n\u001b[0;32m    128\u001b[0m \u001b[1;32mdef\u001b[0m \u001b[0madjust_cycle_fmin\u001b[0m\u001b[1;33m(\u001b[0m\u001b[0mVars\u001b[0m\u001b[1;33m,\u001b[0m \u001b[0mInputs\u001b[0m\u001b[1;33m,\u001b[0m \u001b[0mParam\u001b[0m\u001b[1;33m,\u001b[0m \u001b[0mrefrigerant\u001b[0m \u001b[1;33m=\u001b[0m \u001b[1;34m'R410a'\u001b[0m\u001b[1;33m)\u001b[0m\u001b[1;33m:\u001b[0m\u001b[1;33m\u001b[0m\u001b[1;33m\u001b[0m\u001b[0m\n\u001b[0;32m    129\u001b[0m \u001b[1;33m\u001b[0m\u001b[0m\n\u001b[1;32m--> 130\u001b[1;33m     \u001b[1;32massert\u001b[0m\u001b[1;33m(\u001b[0m\u001b[0mnp\u001b[0m\u001b[1;33m.\u001b[0m\u001b[0msize\u001b[0m\u001b[1;33m(\u001b[0m\u001b[0mVars\u001b[0m\u001b[1;33m)\u001b[0m \u001b[1;33m==\u001b[0m \u001b[1;36m6\u001b[0m\u001b[1;33m)\u001b[0m\u001b[1;33m\u001b[0m\u001b[1;33m\u001b[0m\u001b[0m\n\u001b[0m\u001b[0;32m    131\u001b[0m \u001b[1;33m\u001b[0m\u001b[0m\n\u001b[0;32m    132\u001b[0m     \u001b[0mT_amb\u001b[0m  \u001b[1;33m=\u001b[0m \u001b[0mInputs\u001b[0m\u001b[1;33m[\u001b[0m\u001b[1;36m0\u001b[0m\u001b[1;33m]\u001b[0m\u001b[1;33m\u001b[0m\u001b[1;33m\u001b[0m\u001b[0m\n",
      "\u001b[1;31mAssertionError\u001b[0m: "
     ]
    }
   ],
   "source": [
    "optimizeData = pd.DataFrame()\n",
    "\n",
    "T_amb = np.linspace(-5, 20, 6) + 277.15\n",
    "T_pod = 273.15 + 17\n",
    "Q = 550\n",
    "\n",
    "for index, row in controlData.iterrows():\n",
    "    \n",
    "    Var = np.array([row['P (Pa)'][1],\n",
    "                    row['P (Pa)'][0],\n",
    "                    row['T (K)'][-1] - row['T (K)'][-2],\n",
    "                    2000,\n",
    "                    2900,\n",
    "                    2900,\n",
    "                    ])\n",
    "    \n",
    "    Inputs = np.array([\n",
    "                       row['Ambient T (K)'],\n",
    "                       row['Pod T (K)'],\n",
    "                       row['Q_L (W)'],\n",
    "                      ])\n",
    "\n",
    "    Param = np.array([\n",
    "                     ])\n",
    "\n",
    "    [Vars, COSP] =  of.adjust_cycle_fmin( Var, Inputs, Param)\n",
    "    \n",
    "    [P, T, h, s, abscissa, m_dot, Q_L, Q_H, W_comp, W_fan_c, W_fan_e, COSP, Deficit] = of.make_cycle(Vars, Inputs, Param)\n",
    "    \n",
    "    \n",
    "\n",
    "    optimizeData = optimizeData.append(pd.DataFrame({'Ambient T (K)': row['Ambient T (K)'], 'Pod T (K)': row['Pod T (K)'], 'P (Pa)': [P], \n",
    "                                                     'T (K)': [T], 'h (j/kg)': [h], 's (j/kg K)': [s], 'abcissa': [abscissa], \n",
    "                                                     'Mass Flux (kg/s)': [m_dot], 'Q_L (W)': Q_L, 'Q_H (W)': Q_H, 'Compressor Work (W)': W_comp, \n",
    "                                                     'Condenser Fan Work': W_fan_c, 'Evapoator Fan Work': W_fan_e, 'COSP': COSP, 'Vars': [Vars], 'Deficits': [Deficit]}))\n",
    "\n",
    "    print(Deficit)\n",
    "    print(m_dot)\n",
    "\n",
    "    thermodynamic_plots(optimizeData.iloc[-1], lgnd = ['Vapor Dome', 'Ambient Temperature',\n",
    "                                                      'Pod Temperature', 'Refrigeration Cycle Model',], annotate = False, style = ['r-', None])\n",
    "    \n",
    "optimizeData.to_pickle(path + 'optimizeDataframe.pkl')\n",
    "# optimizeData = pd.read_pickle(path + 'optimizeDataframe.pkl')"
   ]
  },
  {
   "cell_type": "code",
   "execution_count": 6,
   "metadata": {},
   "outputs": [
    {
     "data": {
      "text/plain": [
       "array([1.69057440e+06, 6.81577402e+05, 1.64809356e+01, 2.00000000e+03,\n",
       "       2.90000000e+03, 2.90000000e+03])"
      ]
     },
     "execution_count": 6,
     "metadata": {},
     "output_type": "execute_result"
    }
   ],
   "source": [
    "optimizeData.reset_index()['Vars'][0]"
   ]
  },
  {
   "cell_type": "code",
   "execution_count": 7,
   "metadata": {},
   "outputs": [
    {
     "ename": "NameError",
     "evalue": "name 'experimentalData' is not defined",
     "output_type": "error",
     "traceback": [
      "\u001b[1;31m---------------------------------------------------------------------------\u001b[0m",
      "\u001b[1;31mNameError\u001b[0m                                 Traceback (most recent call last)",
      "\u001b[1;32m<ipython-input-7-f0f3d1f48dd1>\u001b[0m in \u001b[0;36m<module>\u001b[1;34m\u001b[0m\n\u001b[0;32m      2\u001b[0m \u001b[1;32mfor\u001b[0m \u001b[0mindex\u001b[0m\u001b[1;33m,\u001b[0m \u001b[0mrow\u001b[0m \u001b[1;32min\u001b[0m \u001b[0mmodelData\u001b[0m\u001b[1;33m.\u001b[0m\u001b[0miterrows\u001b[0m\u001b[1;33m(\u001b[0m\u001b[1;33m)\u001b[0m\u001b[1;33m:\u001b[0m\u001b[1;33m\u001b[0m\u001b[1;33m\u001b[0m\u001b[0m\n\u001b[0;32m      3\u001b[0m     \u001b[0mP_ratio\u001b[0m\u001b[1;33m.\u001b[0m\u001b[0mappend\u001b[0m\u001b[1;33m(\u001b[0m\u001b[0mrow\u001b[0m\u001b[1;33m[\u001b[0m\u001b[1;34m'P (Pa)'\u001b[0m\u001b[1;33m]\u001b[0m\u001b[1;33m[\u001b[0m\u001b[1;36m1\u001b[0m\u001b[1;33m]\u001b[0m \u001b[1;33m/\u001b[0m \u001b[0mrow\u001b[0m\u001b[1;33m[\u001b[0m\u001b[1;34m'P (Pa)'\u001b[0m\u001b[1;33m]\u001b[0m\u001b[1;33m[\u001b[0m\u001b[1;36m0\u001b[0m\u001b[1;33m]\u001b[0m\u001b[1;33m)\u001b[0m\u001b[1;33m\u001b[0m\u001b[1;33m\u001b[0m\u001b[0m\n\u001b[1;32m----> 4\u001b[1;33m \u001b[0mplt\u001b[0m\u001b[1;33m.\u001b[0m\u001b[0mplot\u001b[0m\u001b[1;33m(\u001b[0m\u001b[0mP_ratio\u001b[0m\u001b[1;33m,\u001b[0m \u001b[0mexperimentalData\u001b[0m\u001b[1;33m[\u001b[0m\u001b[1;34m'Compressor Work (W)'\u001b[0m\u001b[1;33m]\u001b[0m \u001b[1;33m/\u001b[0m \u001b[0mmodelData\u001b[0m\u001b[1;33m[\u001b[0m\u001b[1;34m'Compressor Work (W)'\u001b[0m\u001b[1;33m]\u001b[0m\u001b[1;33m,\u001b[0m \u001b[1;34m'o'\u001b[0m\u001b[1;33m)\u001b[0m\u001b[1;33m\u001b[0m\u001b[1;33m\u001b[0m\u001b[0m\n\u001b[0m\u001b[0;32m      5\u001b[0m \u001b[0mnp\u001b[0m\u001b[1;33m.\u001b[0m\u001b[0mpolyfit\u001b[0m\u001b[1;33m(\u001b[0m\u001b[0mP_ratio\u001b[0m\u001b[1;33m,\u001b[0m \u001b[0mexperimentalData\u001b[0m\u001b[1;33m[\u001b[0m\u001b[1;34m'Compressor Work (W)'\u001b[0m\u001b[1;33m]\u001b[0m \u001b[1;33m/\u001b[0m \u001b[0mmodelData\u001b[0m\u001b[1;33m[\u001b[0m\u001b[1;34m'Compressor Work (W)'\u001b[0m\u001b[1;33m]\u001b[0m\u001b[1;33m,\u001b[0m \u001b[1;36m1\u001b[0m\u001b[1;33m)\u001b[0m\u001b[1;33m\u001b[0m\u001b[1;33m\u001b[0m\u001b[0m\n\u001b[0;32m      6\u001b[0m \u001b[0mplt\u001b[0m\u001b[1;33m.\u001b[0m\u001b[0mshow\u001b[0m\u001b[1;33m(\u001b[0m\u001b[1;33m)\u001b[0m\u001b[1;33m\u001b[0m\u001b[1;33m\u001b[0m\u001b[0m\n",
      "\u001b[1;31mNameError\u001b[0m: name 'experimentalData' is not defined"
     ]
    }
   ],
   "source": [
    "P_ratio = []\n",
    "for index, row in modelData.iterrows():\n",
    "    P_ratio.append(row['P (Pa)'][1] / row['P (Pa)'][0])\n",
    "plt.plot(P_ratio, experimentalData['Compressor Work (W)'] / modelData['Compressor Work (W)'], 'o')\n",
    "np.polyfit(P_ratio, experimentalData['Compressor Work (W)'] / modelData['Compressor Work (W)'], 1)\n",
    "plt.show()"
   ]
  },
  {
   "cell_type": "code",
   "execution_count": null,
   "metadata": {},
   "outputs": [],
   "source": [
    "# Pressure error plot\n",
    "for index, row in modelData.iterrows():\n",
    "    \n",
    "\n",
    "    # Plot experimental vs model Data\n",
    "    plt.plot(experimentalData['P (Pa)'].iloc[index], row['P (Pa)'][[0, 1, 4, 5]], 'ko')\n",
    "\n",
    "# + 10 % error bar\n",
    "plt.plot(np.linspace(0.6e6, 2.4e6), np.linspace(0.6e6, 2.4e6) + 0.1 * np.linspace(0.6e6, 2.4e6), 'k--')\n",
    "plt.annotate('+ 10 %', ((2.4e6 + 0.6e6) / 2, 1.3 * (2.4e6 + 0.6e6) / 2))\n",
    "\n",
    "# + 10 % error bar\n",
    "plt.plot(np.linspace(0.6e6, 2.4e6), np.linspace(0.6e6, 2.4e6) - 0.1 * np.linspace(0.6e6, 2.4e6), 'k--')\n",
    "plt.annotate('- 10 %', ((2.4e6 + 0.6e6) / 2, 0.8 * (2.4e6 + 0.6e6) / 2))\n",
    "\n",
    "# No error line\n",
    "plt.plot(np.linspace(0.6e6, 2.4e6), np.linspace(0.6e6, 2.4e6) , 'k-')\n",
    "\n",
    "# Axis limits and labels\n",
    "plt.xlim([0.6e6, 2.4e6])\n",
    "plt.ylim([0.6e6, 2.4e6])\n",
    "plt.ylabel('Model Pressures (Pa)')\n",
    "plt.xlabel('Experimental Pressures (Pa)')\n",
    "    \n",
    "plt.show()"
   ]
  },
  {
   "cell_type": "code",
   "execution_count": null,
   "metadata": {},
   "outputs": [],
   "source": [
    "# Temperature error plot\n",
    "for index, row in modelData.iterrows():\n",
    "    \n",
    "    # Plot experimental vs model Data\n",
    "    plt.plot(experimentalData['T (K)'].iloc[index], row['T (K)'][[0, 1, 4, 5]], 'ko')\n",
    "    \n",
    "# + 5 K error bar\n",
    "plt.plot(np.linspace(260, 320), np.linspace(260, 320) + 5, 'k--')\n",
    "plt.annotate('+ 5 K', ((260 + 320) / 2, (260 + 320) / 2 + 12))\n",
    "\n",
    "# - 5 K  error bar\n",
    "plt.plot(np.linspace(260, 320), np.linspace(260, 320) - 5, 'k--')\n",
    "plt.annotate('- 5 K', ((260 + 320) / 2,  (260 + 320) / 2 - 10))\n",
    "\n",
    "# No Error line\n",
    "plt.plot(np.linspace(260, 320), np.linspace(260, 320), 'k-')\n",
    "\n",
    "# axis limits and labels\n",
    "plt.ylim([260, 320])\n",
    "plt.xlim([260, 320])\n",
    "plt.ylabel('Model Temperatures (K)')\n",
    "plt.xlabel('Experimental Temperatures (K)')\n",
    "    \n",
    "plt.show()"
   ]
  },
  {
   "cell_type": "code",
   "execution_count": null,
   "metadata": {},
   "outputs": [],
   "source": [
    "# Compressor error plot\n",
    "plt.plot(experimentalData['Compressor Work (W)'], modelData['Compressor Work (W)'], 'ko')\n",
    "\n",
    "# No Error line\n",
    "plt.plot(np.linspace(250, 400), np.linspace(250, 400), 'k-')\n",
    "\n",
    "# + 10 % error bar\n",
    "plt.plot(np.linspace(250, 400), np.linspace(250, 400) + 0.10 * np.linspace(250, 400), 'k--')\n",
    "plt.annotate('+ 10 %', ((250 + 400) / 2, 1.1 * (250 + 400) / 2))\n",
    "\n",
    "# + 10 % error bar\n",
    "plt.plot(np.linspace(250, 400), np.linspace(250, 400) - 0.10 * np.linspace(250, 400), 'k--')\n",
    "plt.annotate('- 10 %', ((250 + 400) / 2, 0.9 * (250 + 400) / 2))\n",
    "\n",
    "# axis limits and labels\n",
    "plt.ylim([250, 400])\n",
    "plt.xlim([250, 400])\n",
    "plt.ylabel('Model $W_{comp}$ (W)')\n",
    "plt.xlabel('Experimental $W_{comp}$ (W)')\n",
    "\n",
    "plt.show()"
   ]
  },
  {
   "cell_type": "code",
   "execution_count": null,
   "metadata": {},
   "outputs": [],
   "source": [
    "# Evaporator Heat Transfer Error Plot\n",
    "plt.plot(experimentalData['Total Heat Load (W)'], modelData['Evaporator Heat Transfer (W)'], 'ko')\n",
    "\n",
    "# No Error line\n",
    "plt.plot(np.linspace(500, 1000), np.linspace(500, 1000), 'k-')\n",
    "\n",
    "# + 10 % error bar\n",
    "plt.plot(np.linspace(500, 1000), np.linspace(500, 1000) + 0.1 * np.linspace(500, 1000), 'k--')\n",
    "plt.annotate('+ 10 %', ((500 + 1000) / 2, 1.2 * (500 + 1000) / 2))\n",
    "\n",
    "# + 10 % error bar\n",
    "plt.plot(np.linspace(500, 1000), np.linspace(500, 1000) - 0.1 * np.linspace(500, 1000), 'k--')\n",
    "plt.annotate('- 10 %', ((500 + 1000) / 2, 0.87 * (500 + 1000) / 2))\n",
    "\n",
    "# axis limits and labels\n",
    "plt.ylim([500, 1000])\n",
    "plt.xlim([500, 1000])\n",
    "plt.ylabel('Model $Q_c$ (W)')\n",
    "plt.xlabel('Experimental $Q_c$ (W)')\n",
    "\n",
    "plt.show()"
   ]
  },
  {
   "cell_type": "code",
   "execution_count": null,
   "metadata": {},
   "outputs": [],
   "source": [
    "plt.plot(experimentalData['COP'], \n",
    "         modelData['Evaporator Heat Transfer (W)'] / modelData['Compressor Work (W)'], \n",
    "         'ko')\n",
    "\n",
    "# No Error line\n",
    "plt.plot(np.linspace(1.7, 3), np.linspace(1.7, 3), 'k-')\n",
    "\n",
    "# + 10 % error bar\n",
    "plt.plot(np.linspace(1.7, 3), np.linspace(1.7, 3) + 0.1 * np.linspace(1.7, 3), 'k--')\n",
    "plt.annotate('+ 10 %', ((1.7 + 3) / 2, 1.2 * (1.7 + 3) / 2))\n",
    "\n",
    "# + 10 % error bar\n",
    "plt.plot(np.linspace(1.7, 3), np.linspace(1.7, 3) - 0.1 * np.linspace(1.7, 3), 'k--')\n",
    "plt.annotate('- 10 %', ((1.7 + 3) / 2, 0.87 * (1.7 + 3) / 2))\n",
    "\n",
    "# axis limits and labels\n",
    "plt.ylim([1.7, 3])\n",
    "plt.xlim([1.7, 3])\n",
    "plt.ylabel('Model COP')\n",
    "plt.xlabel('Experimental COP')\n",
    "\n",
    "plt.show()"
   ]
  },
  {
   "cell_type": "code",
   "execution_count": null,
   "metadata": {},
   "outputs": [],
   "source": [
    "plt.plot(experimentalData['COSP'], modelData['COSP'], 'ko')\n",
    "\n",
    "# No Error line\n",
    "plt.plot(np.linspace(1.2, 2.2), np.linspace(1.2, 2.2), 'k-')\n",
    "\n",
    "# + 10 % error bar\n",
    "plt.plot(np.linspace(1.2, 2.2), np.linspace(1.2, 2.2) + 0.1 * np.linspace(1.2, 2.2), 'k--')\n",
    "plt.annotate('+ 10 %', ((1.2 + 2.2) / 2, 1.2 * (1.2 + 2.2) / 2))\n",
    "\n",
    "# + 10 % error bar\n",
    "plt.plot(np.linspace(1.2, 2.2), np.linspace(1.2, 2.2) - 0.1 * np.linspace(1.2, 2.2), 'k--')\n",
    "plt.annotate('- 10 %', ((1.2 + 2.2) / 2, 0.87 * (1.2 + 2.2) / 2))\n",
    "\n",
    "# axis limits and labels\n",
    "plt.ylim([1.2, 2.2])\n",
    "plt.xlim([1.2, 2.2])\n",
    "plt.ylabel('Model COSP')\n",
    "plt.xlabel('Experimental COSP')\n",
    "\n",
    "plt.show()"
   ]
  },
  {
   "cell_type": "markdown",
   "metadata": {},
   "source": [
    "# Discussion"
   ]
  },
  {
   "cell_type": "markdown",
   "metadata": {},
   "source": [
    "The results in figure 2 from first experiment show that even with the immersion thermocouples the temperatures at all 4 points are being significantly affected by the temperature gradient with respect to the ambient air. At points 2’ and 5’ the temperatures are well below what would be expected, especially the temperature at point 5’ which if correct would indicate that after compression the refrigerant is still a subcooled liquid. At points 1’ and 6’ the temperatures are above what would be expected for the given pressure and indicate a superheated gas.  This cannot be the case at point 6’ since liquid R-410a exits the Schrader valve when connecting and disconnecting to the port. Due to the high pressure and small diameter of the refrigeration tubing it is not possible to immerse the thermocouples directly into the flow, as a consequence stagnation of the flow may occur in the Schrader valve ports, which in turn leads to the fluid being acted on by the ambient temperature gradient and causing measurement errors"
   ]
  },
  {
   "cell_type": "markdown",
   "metadata": {},
   "source": [
    "Figure 3 shows a similar result to plots in figure 2. At all points the temperature measurements seem to be experiencing significant error caused by the ambient temperature gradient. It should be noted the temperature at point 2’, which was measured using a surface mount thermocouple, increased substantially but still indicates the fluid to be a subcooled liquid after compression."
   ]
  },
  {
   "cell_type": "markdown",
   "metadata": {},
   "source": [
    "Figure 4 shows the results from using all surface mount thermocouples adhered to the refrigerant tubing using thermal paste. The results are significantly better with pressures and temperatures indicating reasonable thermodynamic values for a vapor compression refrigeration cycle. Point 1’ suggests there is little to no superheat occurring during evaporation, point 2’ shows some entropy loss during compression but also superheated gas. Points 5’ and 6’ show values to be expected with significant subcooling after condensation and a nearly saturated refrigerant after expansion. Considering that the temperature difference between a saturated liquid and saturated gas at the evaporating pressure is less than 0.12 degrees K it will be nearly impossible to capture the vapor quality of a mixture after expansion."
   ]
  },
  {
   "cell_type": "markdown",
   "metadata": {},
   "source": [
    "- Sight Glass: Emerson Climate AMI-1TT2 \n",
    "- Drier Filter: Emerson Climate EK 032\n",
    "- Flow Meter: Emerson  F025S + 1700 transmitter\n"
   ]
  },
  {
   "cell_type": "markdown",
   "metadata": {},
   "source": [
    "Work on the controlling unit for the thermal management system has begun and a siemens programmable logic ontroller (PLC) has been selected and ordered. This PLC will work predominately in feedback loops to ensure a reasonable superheat temperature is maintained in the thermal management system as well as monitoring the interior of the POD and protecting the electronics by means of shut off and bypass valves."
   ]
  },
  {
   "cell_type": "markdown",
   "metadata": {},
   "source": [
    "- Siemens LOGO! RCE 12/24"
   ]
  },
  {
   "cell_type": "markdown",
   "metadata": {},
   "source": [
    "# Conclusion and Next Steps"
   ]
  },
  {
   "cell_type": "markdown",
   "metadata": {},
   "source": [
    "It can be concluded from the results above that the VCRC model predicts accurate working pressures for the refrigeration cycle when the component functions accurately describe the parameters and geometric characteristics of the system. It also be concluded that the experimental temperature measurements need to be improved for better assessment of the VCRC model’s accuracy. \n",
    "\n",
    "The next steps for this project are to run additional validation tests with the immersed thermocouples, and to program the siemens logic controller to interface with the thermal management system’s sensors and controllers.\n"
   ]
  }
 ],
 "metadata": {
  "kernelspec": {
   "display_name": "Python 3",
   "language": "python",
   "name": "python3"
  },
  "language_info": {
   "codemirror_mode": {
    "name": "ipython",
    "version": 3
   },
   "file_extension": ".py",
   "mimetype": "text/x-python",
   "name": "python",
   "nbconvert_exporter": "python",
   "pygments_lexer": "ipython3",
   "version": "3.9.1"
  }
 },
 "nbformat": 4,
 "nbformat_minor": 4
}
